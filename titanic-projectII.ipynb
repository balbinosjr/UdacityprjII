{
 "cells": [
  {
   "cell_type": "markdown",
   "metadata": {},
   "source": [
    "# Udacity: Programa Nanodegree - FDS I (Projeto II)\n",
    "   # Análise exploratória dos dados (Titanic)\n",
    "   # Aluno: Balbino S. Junior"
   ]
  },
  {
   "cell_type": "markdown",
   "metadata": {},
   "source": [
    "### Projeto final Udacity\n",
    "\n",
    "* A coluna survived é a variavel dependente\n",
    "  - Survived\n",
    "\n",
    "* Definindo as variáveis independentes\n",
    "  - Sex\n",
    "  - Age\n",
    "  - Pclass\n",
    "  - Fare"
   ]
  },
  {
   "cell_type": "code",
   "execution_count": 296,
   "metadata": {},
   "outputs": [],
   "source": [
    "#Carregando as bibliotecas do Python\n",
    "import pandas as pd\n",
    "import numpy as np\n",
    "import matplotlib.pyplot as plt\n",
    "import seaborn as sns\n",
    "\n",
    "%matplotlib inline\n",
    " "
   ]
  },
  {
   "cell_type": "markdown",
   "metadata": {},
   "source": [
    "## Perguntas\n",
    "\n",
    "* Tendo em vista a divisão dos passageiros por faixa etária (crianças, adultos e idosos). Existe uma relação entre a faixa \n",
    "  etária e o número de sobreviventes?\n",
    "* A taxa de sobreviventes entre os passageiros da primeira classe foi maior?\n",
    "* Qual a influência do sexo dos passageiros no número de sobreviventes?\n",
    "* Qual a influência do perfil financeiro dos passageiros para a sua sobrevivência?"
   ]
  },
  {
   "cell_type": "markdown",
   "metadata": {},
   "source": [
    "## Limpeza dos dados\n",
    "\n",
    "Para facilitar o manuseio dos dados, irei ajustar os nomes das variáveis colocando todas em letras minusculas. Durante o processo de limpeza, serão identificados que algumas variáveis deverão ser excluídas, tendo em vista que não irão contribuir para o processo de análise. \n",
    "Cada passo do processo de limpeza terá um comentário acerca do motivo e objetivo (conforme veremos abaixo). Ao final do processo de limpeza dos dados, irei salvá-los em um novo arquivo nomeado: \"titanic_clear.csv\"."
   ]
  },
  {
   "cell_type": "code",
   "execution_count": 297,
   "metadata": {},
   "outputs": [],
   "source": [
    "#Carregando o Dataset\n",
    "dftitan = pd.read_csv('titanic-data-6.csv')"
   ]
  },
  {
   "cell_type": "code",
   "execution_count": 298,
   "metadata": {},
   "outputs": [
    {
     "data": {
      "text/plain": [
       "(891, 12)"
      ]
     },
     "execution_count": 298,
     "metadata": {},
     "output_type": "execute_result"
    }
   ],
   "source": [
    "#Visualizando o número de linhas e colunas do dataset\n",
    "dftitan.shape"
   ]
  },
  {
   "cell_type": "code",
   "execution_count": 299,
   "metadata": {},
   "outputs": [
    {
     "data": {
      "text/html": [
       "<div>\n",
       "<style scoped>\n",
       "    .dataframe tbody tr th:only-of-type {\n",
       "        vertical-align: middle;\n",
       "    }\n",
       "\n",
       "    .dataframe tbody tr th {\n",
       "        vertical-align: top;\n",
       "    }\n",
       "\n",
       "    .dataframe thead th {\n",
       "        text-align: right;\n",
       "    }\n",
       "</style>\n",
       "<table border=\"1\" class=\"dataframe\">\n",
       "  <thead>\n",
       "    <tr style=\"text-align: right;\">\n",
       "      <th></th>\n",
       "      <th>PassengerId</th>\n",
       "      <th>Survived</th>\n",
       "      <th>Pclass</th>\n",
       "      <th>Name</th>\n",
       "      <th>Sex</th>\n",
       "      <th>Age</th>\n",
       "      <th>SibSp</th>\n",
       "      <th>Parch</th>\n",
       "      <th>Ticket</th>\n",
       "      <th>Fare</th>\n",
       "      <th>Cabin</th>\n",
       "      <th>Embarked</th>\n",
       "    </tr>\n",
       "  </thead>\n",
       "  <tbody>\n",
       "    <tr>\n",
       "      <th>0</th>\n",
       "      <td>1</td>\n",
       "      <td>0</td>\n",
       "      <td>3</td>\n",
       "      <td>Braund, Mr. Owen Harris</td>\n",
       "      <td>male</td>\n",
       "      <td>22.0</td>\n",
       "      <td>1</td>\n",
       "      <td>0</td>\n",
       "      <td>A/5 21171</td>\n",
       "      <td>7.2500</td>\n",
       "      <td>NaN</td>\n",
       "      <td>S</td>\n",
       "    </tr>\n",
       "    <tr>\n",
       "      <th>1</th>\n",
       "      <td>2</td>\n",
       "      <td>1</td>\n",
       "      <td>1</td>\n",
       "      <td>Cumings, Mrs. John Bradley (Florence Briggs Th...</td>\n",
       "      <td>female</td>\n",
       "      <td>38.0</td>\n",
       "      <td>1</td>\n",
       "      <td>0</td>\n",
       "      <td>PC 17599</td>\n",
       "      <td>71.2833</td>\n",
       "      <td>C85</td>\n",
       "      <td>C</td>\n",
       "    </tr>\n",
       "    <tr>\n",
       "      <th>2</th>\n",
       "      <td>3</td>\n",
       "      <td>1</td>\n",
       "      <td>3</td>\n",
       "      <td>Heikkinen, Miss. Laina</td>\n",
       "      <td>female</td>\n",
       "      <td>26.0</td>\n",
       "      <td>0</td>\n",
       "      <td>0</td>\n",
       "      <td>STON/O2. 3101282</td>\n",
       "      <td>7.9250</td>\n",
       "      <td>NaN</td>\n",
       "      <td>S</td>\n",
       "    </tr>\n",
       "    <tr>\n",
       "      <th>3</th>\n",
       "      <td>4</td>\n",
       "      <td>1</td>\n",
       "      <td>1</td>\n",
       "      <td>Futrelle, Mrs. Jacques Heath (Lily May Peel)</td>\n",
       "      <td>female</td>\n",
       "      <td>35.0</td>\n",
       "      <td>1</td>\n",
       "      <td>0</td>\n",
       "      <td>113803</td>\n",
       "      <td>53.1000</td>\n",
       "      <td>C123</td>\n",
       "      <td>S</td>\n",
       "    </tr>\n",
       "    <tr>\n",
       "      <th>4</th>\n",
       "      <td>5</td>\n",
       "      <td>0</td>\n",
       "      <td>3</td>\n",
       "      <td>Allen, Mr. William Henry</td>\n",
       "      <td>male</td>\n",
       "      <td>35.0</td>\n",
       "      <td>0</td>\n",
       "      <td>0</td>\n",
       "      <td>373450</td>\n",
       "      <td>8.0500</td>\n",
       "      <td>NaN</td>\n",
       "      <td>S</td>\n",
       "    </tr>\n",
       "  </tbody>\n",
       "</table>\n",
       "</div>"
      ],
      "text/plain": [
       "   PassengerId  Survived  Pclass  \\\n",
       "0            1         0       3   \n",
       "1            2         1       1   \n",
       "2            3         1       3   \n",
       "3            4         1       1   \n",
       "4            5         0       3   \n",
       "\n",
       "                                                Name     Sex   Age  SibSp  \\\n",
       "0                            Braund, Mr. Owen Harris    male  22.0      1   \n",
       "1  Cumings, Mrs. John Bradley (Florence Briggs Th...  female  38.0      1   \n",
       "2                             Heikkinen, Miss. Laina  female  26.0      0   \n",
       "3       Futrelle, Mrs. Jacques Heath (Lily May Peel)  female  35.0      1   \n",
       "4                           Allen, Mr. William Henry    male  35.0      0   \n",
       "\n",
       "   Parch            Ticket     Fare Cabin Embarked  \n",
       "0      0         A/5 21171   7.2500   NaN        S  \n",
       "1      0          PC 17599  71.2833   C85        C  \n",
       "2      0  STON/O2. 3101282   7.9250   NaN        S  \n",
       "3      0            113803  53.1000  C123        S  \n",
       "4      0            373450   8.0500   NaN        S  "
      ]
     },
     "execution_count": 299,
     "metadata": {},
     "output_type": "execute_result"
    }
   ],
   "source": [
    "#Visualizando os dados para se ter uma idéia da sua estrutura\n",
    "dftitan.head()"
   ]
  },
  {
   "cell_type": "code",
   "execution_count": 300,
   "metadata": {},
   "outputs": [
    {
     "data": {
      "text/html": [
       "<div>\n",
       "<style scoped>\n",
       "    .dataframe tbody tr th:only-of-type {\n",
       "        vertical-align: middle;\n",
       "    }\n",
       "\n",
       "    .dataframe tbody tr th {\n",
       "        vertical-align: top;\n",
       "    }\n",
       "\n",
       "    .dataframe thead th {\n",
       "        text-align: right;\n",
       "    }\n",
       "</style>\n",
       "<table border=\"1\" class=\"dataframe\">\n",
       "  <thead>\n",
       "    <tr style=\"text-align: right;\">\n",
       "      <th></th>\n",
       "      <th>passengerid</th>\n",
       "      <th>survived</th>\n",
       "      <th>pclass</th>\n",
       "      <th>name</th>\n",
       "      <th>sex</th>\n",
       "      <th>age</th>\n",
       "      <th>sibsp</th>\n",
       "      <th>parch</th>\n",
       "      <th>ticket</th>\n",
       "      <th>fare</th>\n",
       "      <th>cabin</th>\n",
       "      <th>embarked</th>\n",
       "    </tr>\n",
       "  </thead>\n",
       "  <tbody>\n",
       "    <tr>\n",
       "      <th>0</th>\n",
       "      <td>1</td>\n",
       "      <td>0</td>\n",
       "      <td>3</td>\n",
       "      <td>Braund, Mr. Owen Harris</td>\n",
       "      <td>male</td>\n",
       "      <td>22.0</td>\n",
       "      <td>1</td>\n",
       "      <td>0</td>\n",
       "      <td>A/5 21171</td>\n",
       "      <td>7.25</td>\n",
       "      <td>NaN</td>\n",
       "      <td>S</td>\n",
       "    </tr>\n",
       "  </tbody>\n",
       "</table>\n",
       "</div>"
      ],
      "text/plain": [
       "   passengerid  survived  pclass                     name   sex   age  sibsp  \\\n",
       "0            1         0       3  Braund, Mr. Owen Harris  male  22.0      1   \n",
       "\n",
       "   parch     ticket  fare cabin embarked  \n",
       "0      0  A/5 21171  7.25   NaN        S  "
      ]
     },
     "execution_count": 300,
     "metadata": {},
     "output_type": "execute_result"
    }
   ],
   "source": [
    "# Para facilitar o manuseio dos dados acima, irei ajustar os nomes das colunas para letras minusculas\n",
    "dftitan.rename(columns=lambda x: x.strip().lower(), inplace=True)\n",
    "\n",
    "# confirmando os ajustes\n",
    "dftitan.head(1)"
   ]
  },
  {
   "cell_type": "code",
   "execution_count": 301,
   "metadata": {},
   "outputs": [
    {
     "data": {
      "text/plain": [
       "passengerid      0\n",
       "survived         0\n",
       "pclass           0\n",
       "name             0\n",
       "sex              0\n",
       "age            177\n",
       "sibsp            0\n",
       "parch            0\n",
       "ticket           0\n",
       "fare             0\n",
       "cabin          687\n",
       "embarked         2\n",
       "dtype: int64"
      ]
     },
     "execution_count": 301,
     "metadata": {},
     "output_type": "execute_result"
    }
   ],
   "source": [
    "# Exibindo linhas com valores faltantes\n",
    "dftitan.isnull().sum()"
   ]
  },
  {
   "cell_type": "code",
   "execution_count": 302,
   "metadata": {},
   "outputs": [],
   "source": [
    "# A variável \"cabin\" está sendo excluida por conter mais de 77% de valores faltantes.\n",
    "# No meu entendimento não irá contribuir para as análise\n",
    "dftitan.drop(\"cabin\", axis=1, inplace=True)"
   ]
  },
  {
   "cell_type": "code",
   "execution_count": 303,
   "metadata": {},
   "outputs": [
    {
     "data": {
      "text/plain": [
       "passengerid      0\n",
       "survived         0\n",
       "pclass           0\n",
       "name             0\n",
       "sex              0\n",
       "age            177\n",
       "sibsp            0\n",
       "parch            0\n",
       "ticket           0\n",
       "fare             0\n",
       "embarked         2\n",
       "dtype: int64"
      ]
     },
     "execution_count": 303,
     "metadata": {},
     "output_type": "execute_result"
    }
   ],
   "source": [
    "# Exibindo linhas com valores faltantes após o ajuste\n",
    "dftitan.isnull().sum()"
   ]
  },
  {
   "cell_type": "code",
   "execution_count": 304,
   "metadata": {},
   "outputs": [],
   "source": [
    "# Uma das variáveis independentes escolhidas para as análises (\"age\") possui 177 registros nulos. Sendo assim, decidi fazer \n",
    "# um ajuste usando a média dos valores não nulos, para susbtituir os valores nulos. A idéia de usar a média é para evitar \n",
    "# distorções ou uma forte influência nos dados.\n",
    "mean_age = float(\"{0:.2f}\".format(dftitan['age'].dropna().mean()))\n",
    "dftitan['age'] = dftitan['age'].fillna(mean_age)"
   ]
  },
  {
   "cell_type": "code",
   "execution_count": 305,
   "metadata": {},
   "outputs": [
    {
     "data": {
      "text/plain": [
       "passengerid    0\n",
       "survived       0\n",
       "pclass         0\n",
       "name           0\n",
       "sex            0\n",
       "age            0\n",
       "sibsp          0\n",
       "parch          0\n",
       "ticket         0\n",
       "fare           0\n",
       "embarked       2\n",
       "dtype: int64"
      ]
     },
     "execution_count": 305,
     "metadata": {},
     "output_type": "execute_result"
    }
   ],
   "source": [
    "# Exibindo linhas com valores faltantes após o ajuste\n",
    "dftitan.isnull().sum()"
   ]
  },
  {
   "cell_type": "code",
   "execution_count": 306,
   "metadata": {},
   "outputs": [
    {
     "data": {
      "text/html": [
       "<div>\n",
       "<style scoped>\n",
       "    .dataframe tbody tr th:only-of-type {\n",
       "        vertical-align: middle;\n",
       "    }\n",
       "\n",
       "    .dataframe tbody tr th {\n",
       "        vertical-align: top;\n",
       "    }\n",
       "\n",
       "    .dataframe thead th {\n",
       "        text-align: right;\n",
       "    }\n",
       "</style>\n",
       "<table border=\"1\" class=\"dataframe\">\n",
       "  <thead>\n",
       "    <tr style=\"text-align: right;\">\n",
       "      <th></th>\n",
       "      <th>passengerid</th>\n",
       "      <th>survived</th>\n",
       "      <th>pclass</th>\n",
       "      <th>sex</th>\n",
       "      <th>age</th>\n",
       "      <th>sibsp</th>\n",
       "      <th>parch</th>\n",
       "      <th>fare</th>\n",
       "    </tr>\n",
       "  </thead>\n",
       "  <tbody>\n",
       "    <tr>\n",
       "      <th>0</th>\n",
       "      <td>1</td>\n",
       "      <td>0</td>\n",
       "      <td>3</td>\n",
       "      <td>male</td>\n",
       "      <td>22.0</td>\n",
       "      <td>1</td>\n",
       "      <td>0</td>\n",
       "      <td>7.25</td>\n",
       "    </tr>\n",
       "  </tbody>\n",
       "</table>\n",
       "</div>"
      ],
      "text/plain": [
       "   passengerid  survived  pclass   sex   age  sibsp  parch  fare\n",
       "0            1         0       3  male  22.0      1      0  7.25"
      ]
     },
     "execution_count": 306,
     "metadata": {},
     "output_type": "execute_result"
    }
   ],
   "source": [
    "# Descartando algumas variáveis do conjunto de dados. As variáveis: \"name\" e \"ticket\" são do tipo string e dificilmente\n",
    "# poderiam ser usadas para a realização de análises.\n",
    "dftitan.drop(['name', 'ticket', 'embarked'], axis=1, inplace=True)\n",
    "\n",
    "# confirmando as mudanças\n",
    "dftitan.head(1)"
   ]
  },
  {
   "cell_type": "code",
   "execution_count": 307,
   "metadata": {},
   "outputs": [
    {
     "name": "stdout",
     "output_type": "stream",
     "text": [
      "<class 'pandas.core.frame.DataFrame'>\n",
      "RangeIndex: 891 entries, 0 to 890\n",
      "Data columns (total 8 columns):\n",
      "passengerid    891 non-null int64\n",
      "survived       891 non-null int64\n",
      "pclass         891 non-null int64\n",
      "sex            891 non-null object\n",
      "age            891 non-null float64\n",
      "sibsp          891 non-null int64\n",
      "parch          891 non-null int64\n",
      "fare           891 non-null float64\n",
      "dtypes: float64(2), int64(5), object(1)\n",
      "memory usage: 55.8+ KB\n"
     ]
    }
   ],
   "source": [
    "dftitan.info()"
   ]
  },
  {
   "cell_type": "code",
   "execution_count": 308,
   "metadata": {},
   "outputs": [],
   "source": [
    "# Obtendo a menor e maior idade dos passageiros\n",
    "min_age = int(dftitan.iloc[dftitan['age'].idxmin()].age)\n",
    "max_age = int(dftitan.iloc[dftitan['age'].idxmax()].age) + 1\n",
    "\n",
    "# Criando uma nova coluna com o objetivo de agrupar os passageiros em 4 faixas etária\n",
    "dftitan['age_range'] = pd.cut(dftitan.age, [min_age, 14, 50, max_age], labels=['children', 'adults', 'elderly'])"
   ]
  },
  {
   "cell_type": "code",
   "execution_count": 309,
   "metadata": {},
   "outputs": [],
   "source": [
    "# Farei um agrupamento das colunas sibsp e parch. Nos casos em o somatório dessas variáveis for maior ou igual a 1, \n",
    "# indica que o passageiro possui pelo menos um familiar à bordo. Caso não possua, o valor da variável será 0 (zero).\n",
    "dftitan['family'] = np.where((dftitan['sibsp'] + dftitan['parch']>= 1) , 1, 0)"
   ]
  },
  {
   "cell_type": "code",
   "execution_count": 310,
   "metadata": {},
   "outputs": [],
   "source": [
    "#Excluindo as variáveis \"sibsp\" e \"parch\" pois as mesmas estão sendo representadas pela coluna \"family\"\n",
    "dftitan.drop(['sibsp', 'parch'], axis=1, inplace=True)"
   ]
  },
  {
   "cell_type": "code",
   "execution_count": 311,
   "metadata": {},
   "outputs": [
    {
     "data": {
      "text/html": [
       "<div>\n",
       "<style scoped>\n",
       "    .dataframe tbody tr th:only-of-type {\n",
       "        vertical-align: middle;\n",
       "    }\n",
       "\n",
       "    .dataframe tbody tr th {\n",
       "        vertical-align: top;\n",
       "    }\n",
       "\n",
       "    .dataframe thead th {\n",
       "        text-align: right;\n",
       "    }\n",
       "</style>\n",
       "<table border=\"1\" class=\"dataframe\">\n",
       "  <thead>\n",
       "    <tr style=\"text-align: right;\">\n",
       "      <th></th>\n",
       "      <th>passengerid</th>\n",
       "      <th>survived</th>\n",
       "      <th>pclass</th>\n",
       "      <th>sex</th>\n",
       "      <th>age</th>\n",
       "      <th>fare</th>\n",
       "      <th>age_range</th>\n",
       "      <th>family</th>\n",
       "    </tr>\n",
       "  </thead>\n",
       "  <tbody>\n",
       "    <tr>\n",
       "      <th>0</th>\n",
       "      <td>1</td>\n",
       "      <td>0</td>\n",
       "      <td>3</td>\n",
       "      <td>male</td>\n",
       "      <td>22.0</td>\n",
       "      <td>7.25</td>\n",
       "      <td>adults</td>\n",
       "      <td>1</td>\n",
       "    </tr>\n",
       "  </tbody>\n",
       "</table>\n",
       "</div>"
      ],
      "text/plain": [
       "   passengerid  survived  pclass   sex   age  fare age_range  family\n",
       "0            1         0       3  male  22.0  7.25    adults       1"
      ]
     },
     "execution_count": 311,
     "metadata": {},
     "output_type": "execute_result"
    }
   ],
   "source": [
    "#Verificando os ajustes\n",
    "dftitan.head(1)"
   ]
  },
  {
   "cell_type": "code",
   "execution_count": 312,
   "metadata": {},
   "outputs": [
    {
     "data": {
      "text/plain": [
       "passengerid    0\n",
       "survived       0\n",
       "pclass         0\n",
       "sex            0\n",
       "age            0\n",
       "fare           0\n",
       "age_range      0\n",
       "family         0\n",
       "dtype: int64"
      ]
     },
     "execution_count": 312,
     "metadata": {},
     "output_type": "execute_result"
    }
   ],
   "source": [
    "# Verificando se ainda existem linhas com valores faltantes\n",
    "dftitan.isnull().sum()"
   ]
  },
  {
   "cell_type": "code",
   "execution_count": 313,
   "metadata": {},
   "outputs": [],
   "source": [
    "# Salvando os dados limpos em um novo arquivo .csv\n",
    "dftitan.to_csv('titanic_clean.csv', index=False)"
   ]
  },
  {
   "cell_type": "markdown",
   "metadata": {},
   "source": [
    "## Análise\n",
    "\n",
    "Durante o processo de análise irei procurar responder a alguns questionamentos acerca do conjunto de dados disponibilizados. Para isso farei uso de filtros, agrupamentos e gráficos que terão como objetivo esclarecer melhor os questionamentos feitos.\n",
    "Para cada um dos questionamentos, farei um comentário acerca de como o mesmo será respondido."
   ]
  },
  {
   "cell_type": "markdown",
   "metadata": {},
   "source": [
    "### Pergunta 1: Tendo em vista a divisão dos passageiros por faixa etária (crianças, adultos e idosos). Existe uma relação entre a faixa etária e o numero de sobreviventes?\n",
    "\n",
    "Para responder ao questionamento acima, não faz sentido analisar as idades de cada um dos passageiros. Por isso, irei fazer uso da variável \"faixa_etaria\" (criada com base na variavel \"age\") e verificar a relação da mesma com a variável \"survived\".\n",
    "A relação será visualizada através de um gráfico de barras."
   ]
  },
  {
   "cell_type": "code",
   "execution_count": 314,
   "metadata": {},
   "outputs": [
    {
     "data": {
      "text/html": [
       "<div>\n",
       "<style scoped>\n",
       "    .dataframe tbody tr th:only-of-type {\n",
       "        vertical-align: middle;\n",
       "    }\n",
       "\n",
       "    .dataframe tbody tr th {\n",
       "        vertical-align: top;\n",
       "    }\n",
       "\n",
       "    .dataframe thead th {\n",
       "        text-align: right;\n",
       "    }\n",
       "</style>\n",
       "<table border=\"1\" class=\"dataframe\">\n",
       "  <thead>\n",
       "    <tr style=\"text-align: right;\">\n",
       "      <th></th>\n",
       "      <th>age_range</th>\n",
       "      <th>survived</th>\n",
       "    </tr>\n",
       "  </thead>\n",
       "  <tbody>\n",
       "    <tr>\n",
       "      <th>0</th>\n",
       "      <td>children</td>\n",
       "      <td>0.584416</td>\n",
       "    </tr>\n",
       "    <tr>\n",
       "      <th>1</th>\n",
       "      <td>adults</td>\n",
       "      <td>0.366667</td>\n",
       "    </tr>\n",
       "    <tr>\n",
       "      <th>2</th>\n",
       "      <td>elderly</td>\n",
       "      <td>0.343750</td>\n",
       "    </tr>\n",
       "  </tbody>\n",
       "</table>\n",
       "</div>"
      ],
      "text/plain": [
       "  age_range  survived\n",
       "0  children  0.584416\n",
       "1    adults  0.366667\n",
       "2   elderly  0.343750"
      ]
     },
     "execution_count": 314,
     "metadata": {},
     "output_type": "execute_result"
    }
   ],
   "source": [
    "# Calculando a média de sobreviventes com base na faixa etária\n",
    "dftitan[['age_range', 'survived' ]].groupby([ 'age_range'], as_index=False).mean()"
   ]
  },
  {
   "cell_type": "code",
   "execution_count": 315,
   "metadata": {},
   "outputs": [
    {
     "data": {
      "text/plain": [
       "<matplotlib.axes._subplots.AxesSubplot at 0x25a2da907b8>"
      ]
     },
     "execution_count": 315,
     "metadata": {},
     "output_type": "execute_result"
    },
    {
     "data": {
      "image/png": "[encoded data removed]",
      "text/plain": [
       "<Figure size 432x288 with 1 Axes>"
      ]
     },
     "metadata": {
      "needs_background": "light"
     },
     "output_type": "display_data"
    }
   ],
   "source": [
    "# Gráfico que mostra sobreviventes e não-sobreviventes por faixa etária\n",
    "dftitan.groupby(['age_range', 'survived']).size().unstack().plot(kind = 'bar', title = 'Survivors by Age range')\n"
   ]
  },
  {
   "cell_type": "markdown",
   "metadata": {},
   "source": [
    "### Pergunta 1: Conclusão\n",
    "\n",
    "Ao analisar a tabela  e o gráfico acima, podemos verificar que a média de sobreviventes entre as crianças é bem maior em relação aos demais grupos. O resultado apresentado pode ser explicado através da [regra de evacuação](https://pt.wikipedia.org/wiki/Mulheres_e_crian%C3%A7as_primeiro) onde mulheres e crianças terão prioridade em caso de desastres. "
   ]
  },
  {
   "cell_type": "markdown",
   "metadata": {},
   "source": [
    "### Pergunta 2: A taxa de sobreviventes entre os passageiros da primeira classe foi maior?"
   ]
  },
  {
   "cell_type": "code",
   "execution_count": 316,
   "metadata": {},
   "outputs": [
    {
     "data": {
      "text/html": [
       "<div>\n",
       "<style scoped>\n",
       "    .dataframe tbody tr th:only-of-type {\n",
       "        vertical-align: middle;\n",
       "    }\n",
       "\n",
       "    .dataframe tbody tr th {\n",
       "        vertical-align: top;\n",
       "    }\n",
       "\n",
       "    .dataframe thead th {\n",
       "        text-align: right;\n",
       "    }\n",
       "</style>\n",
       "<table border=\"1\" class=\"dataframe\">\n",
       "  <thead>\n",
       "    <tr style=\"text-align: right;\">\n",
       "      <th></th>\n",
       "      <th>pclass</th>\n",
       "      <th>survived</th>\n",
       "    </tr>\n",
       "  </thead>\n",
       "  <tbody>\n",
       "    <tr>\n",
       "      <th>0</th>\n",
       "      <td>1</td>\n",
       "      <td>0.629630</td>\n",
       "    </tr>\n",
       "    <tr>\n",
       "      <th>1</th>\n",
       "      <td>2</td>\n",
       "      <td>0.472826</td>\n",
       "    </tr>\n",
       "    <tr>\n",
       "      <th>2</th>\n",
       "      <td>3</td>\n",
       "      <td>0.242363</td>\n",
       "    </tr>\n",
       "  </tbody>\n",
       "</table>\n",
       "</div>"
      ],
      "text/plain": [
       "   pclass  survived\n",
       "0       1  0.629630\n",
       "1       2  0.472826\n",
       "2       3  0.242363"
      ]
     },
     "execution_count": 316,
     "metadata": {},
     "output_type": "execute_result"
    }
   ],
   "source": [
    "# Verificando a média de sobreviventes em cada uma das classes\n",
    "dftitan[['pclass', 'survived']].groupby(['pclass'], as_index=False).mean()"
   ]
  },
  {
   "cell_type": "code",
   "execution_count": 317,
   "metadata": {},
   "outputs": [
    {
     "data": {
      "text/plain": [
       "<matplotlib.axes._subplots.AxesSubplot at 0x25a2daf1390>"
      ]
     },
     "execution_count": 317,
     "metadata": {},
     "output_type": "execute_result"
    },
    {
     "data": {
      "image/png": "[encoded data removed]",
      "text/plain": [
       "<Figure size 432x288 with 1 Axes>"
      ]
     },
     "metadata": {
      "needs_background": "light"
     },
     "output_type": "display_data"
    }
   ],
   "source": [
    "# Visualizando a quantidade de sobreviventes em cada uma das classes\n",
    "dftitan.groupby(['pclass', 'survived']).size().unstack().plot(kind = 'bar', title = 'Survivors by class')"
   ]
  },
  {
   "cell_type": "markdown",
   "metadata": {},
   "source": [
    "### Pergunta 2: Conclusão\n",
    "\n",
    "Sim.\n",
    "A taxa de sobrevivência dos passageiros da primeira classe foi de aproximadamente 63%, enquanto que na 2ª classe a taxa foi de 47% e na 3ª classe a taxa foi de 24% (conforme tabela). O gráfico acima nos mostra visualmente (através das quantidades) essa relação. Ou seja, os passageiros da primeira classe tiveram uma probabilidade de sobrevivência bem maior que os passageiros das classes inferiores."
   ]
  },
  {
   "cell_type": "markdown",
   "metadata": {},
   "source": [
    "### Pergunta 3: Qual a influência do sexo dos passageiros no número de sobreviventes?"
   ]
  },
  {
   "cell_type": "code",
   "execution_count": 318,
   "metadata": {},
   "outputs": [
    {
     "data": {
      "image/png": "[encoded data removed]",
      "text/plain": [
       "<Figure size 432x288 with 1 Axes>"
      ]
     },
     "metadata": {},
     "output_type": "display_data"
    }
   ],
   "source": [
    "# Obtendo graficamente a distribuição de passageiros por sexo\n",
    "fig1, ax1 = plt.subplots()\n",
    "ax1.pie(dftitan['sex'].value_counts(), labels=dftitan['sex'].unique(), autopct='%1.1f%%', shadow=True)\n",
    "ax1.axis('equal')\n",
    "plt.title('Distribution Passengers by Sex')\n",
    "plt.legend()\n",
    "plt.show()"
   ]
  },
  {
   "cell_type": "code",
   "execution_count": 319,
   "metadata": {},
   "outputs": [
    {
     "data": {
      "text/html": [
       "<div>\n",
       "<style scoped>\n",
       "    .dataframe tbody tr th:only-of-type {\n",
       "        vertical-align: middle;\n",
       "    }\n",
       "\n",
       "    .dataframe tbody tr th {\n",
       "        vertical-align: top;\n",
       "    }\n",
       "\n",
       "    .dataframe thead th {\n",
       "        text-align: right;\n",
       "    }\n",
       "</style>\n",
       "<table border=\"1\" class=\"dataframe\">\n",
       "  <thead>\n",
       "    <tr style=\"text-align: right;\">\n",
       "      <th></th>\n",
       "      <th>survived</th>\n",
       "    </tr>\n",
       "    <tr>\n",
       "      <th>sex</th>\n",
       "      <th></th>\n",
       "    </tr>\n",
       "  </thead>\n",
       "  <tbody>\n",
       "    <tr>\n",
       "      <th>female</th>\n",
       "      <td>0.742038</td>\n",
       "    </tr>\n",
       "    <tr>\n",
       "      <th>male</th>\n",
       "      <td>0.188908</td>\n",
       "    </tr>\n",
       "  </tbody>\n",
       "</table>\n",
       "</div>"
      ],
      "text/plain": [
       "        survived\n",
       "sex             \n",
       "female  0.742038\n",
       "male    0.188908"
      ]
     },
     "execution_count": 319,
     "metadata": {},
     "output_type": "execute_result"
    }
   ],
   "source": [
    "# Obtendo média de sobreviventes por sexo\n",
    "dftitan[['sex', 'survived']].groupby(['sex']).mean()"
   ]
  },
  {
   "cell_type": "code",
   "execution_count": 320,
   "metadata": {},
   "outputs": [
    {
     "data": {
      "text/plain": [
       "<matplotlib.axes._subplots.AxesSubplot at 0x25a2db999b0>"
      ]
     },
     "execution_count": 320,
     "metadata": {},
     "output_type": "execute_result"
    },
    {
     "data": {
      "image/png": "[encoded data removed]",
      "text/plain": [
       "<Figure size 432x288 with 1 Axes>"
      ]
     },
     "metadata": {
      "needs_background": "light"
     },
     "output_type": "display_data"
    }
   ],
   "source": [
    "# Obtendo distribuição de sobreviventes por sexo\n",
    "dftitan.groupby(['sex', 'survived']).size().unstack().plot(kind = 'bar', title = 'Survivors by sex')"
   ]
  },
  {
   "cell_type": "markdown",
   "metadata": {},
   "source": [
    "### Pergunta 3: Conclusão\n",
    "\n",
    "* No primeiro gráfico (distribuição da população de passageiros por sexo), podemos perceber que a quantidade de passageiros do \n",
    "  sexo masculino (\"male\") é bem maior que a quantidade de passageiras (\"female\").\n",
    "* Na segunda tabela (média de sobreviventes por sexo) podemos verificar que a taxa de sobreviventes do sexo masculino \n",
    "  é bem menor (aproximadamente 19%) em relação ao sexo feminino (aproximadamente 74%). O segundo gráfico confirma os dados da \n",
    "  tabela tendo por base as quantidades de sobreviventes em cada um dos grupos (\"female\", \"male\").\n",
    "  \n",
    "Com isso, podemos concluir que o sexo teve uma influência significativa na população de sobreviventes. Essa influência pode ser explicada pela [regra de evacuação](https://pt.wikipedia.org/wiki/Mulheres_e_crian%C3%A7as_primeiro) citada anteriormente."
   ]
  },
  {
   "cell_type": "markdown",
   "metadata": {},
   "source": [
    "### Pergunta 4: Qual a influência do perfil financeiro dos passageiros para a sua sobrevivência?\n",
    "\n",
    "Sabemos que a classe (\"pclass\") em que cada passageiro embarcou, bem como o valor da tarifa paga (\"fare\"), nos dá informações acerca do perfil financeiro do mesmo. Sendo assim, para responder ao questionamento acima seguirei os seguintes passos:\n",
    "* Passo 1: Analisar através de dados estatísticos e gráficos a relação entre as variáveis: \"fare\" e \"survived\".\n",
    "* Passo 2: Visualizar a distribuição proporcional dos sobreviventes e não-sobreviventes em cada uma das classes.\n",
    "* Passo 3: Conclusões"
   ]
  },
  {
   "cell_type": "markdown",
   "metadata": {},
   "source": [
    "#### Passo 1: verificar como as variáveis: \"fare\" e \"survived\" estão relacionadas.\n",
    "\n",
    "Como \"fare\" é uma variável contínua, a idéia é gerar 2 grandes grupos de dados com base na media da variável \"fare\", e \n",
    "verificar graficamente a distribuição média dos sobreviventes em cada um dos grupos."
   ]
  },
  {
   "cell_type": "code",
   "execution_count": 321,
   "metadata": {},
   "outputs": [],
   "source": [
    "#Calculando a media do conjunto de dados com base na variável \"fare\"\n",
    "mean_fare = dftitan['fare'].mean()\n",
    "\n",
    "#Dividindo os dados em 2 grupos a partir da mediana\n",
    "low_fare  = dftitan.query('fare <= @mean_fare')\n",
    "high_fare = dftitan.query('fare > @mean_fare')\n",
    "\n",
    "#Calculando as médias de sobreviventes em cada um dos conjuntos de dados\n",
    "low_surv_mean  = low_fare['survived'].mean()\n",
    "high_surv_mean = high_fare['survived'].mean()\n"
   ]
  },
  {
   "cell_type": "code",
   "execution_count": 322,
   "metadata": {},
   "outputs": [
    {
     "data": {
      "text/plain": [
       "((680, 8), (211, 8))"
      ]
     },
     "execution_count": 322,
     "metadata": {},
     "output_type": "execute_result"
    }
   ],
   "source": [
    "#Visualizando como ficou a distribuição do conjunto de dados\n",
    "low_fare.shape, high_fare.shape"
   ]
  },
  {
   "cell_type": "code",
   "execution_count": 323,
   "metadata": {},
   "outputs": [
    {
     "data": {
      "image/png": "[encoded data removed]",
      "text/plain": [
       "<Figure size 432x288 with 1 Axes>"
      ]
     },
     "metadata": {
      "needs_background": "light"
     },
     "output_type": "display_data"
    }
   ],
   "source": [
    "# Criação do gráfico de barras para contribuir ao questionamento\n",
    "locations = [1, 2]\n",
    "heights   = [low_surv_mean, high_surv_mean]\n",
    "labels    = ['Low', 'High']\n",
    "plt.bar(locations, heights, tick_label=labels)\n",
    "plt.title('Average Survived by Fare')\n",
    "plt.xlabel('Fare')\n",
    "plt.ylabel('Average Survived');"
   ]
  },
  {
   "cell_type": "markdown",
   "metadata": {},
   "source": [
    "#### Passo 1: Conclusão\n",
    "\n",
    "O primeiro gráfico acima nos mostra que os passageiros que pagaram pelas maiores tarifas tiveram suas chances de sobrevivência quase que duplicada em comparação com os que pagaram por tarifas mais baratas (em comparação com a média)."
   ]
  },
  {
   "cell_type": "markdown",
   "metadata": {},
   "source": [
    "#### Passo 2: Visualizar a distribuição proporcional entre sobreviventes e não- sobreviventes em cada uma das classes."
   ]
  },
  {
   "cell_type": "code",
   "execution_count": 324,
   "metadata": {},
   "outputs": [
    {
     "data": {
      "text/plain": [
       "survived  pclass\n",
       "0         1          80\n",
       "          2          97\n",
       "          3         372\n",
       "1         1         136\n",
       "          2          87\n",
       "          3         119\n",
       "Name: passengerid, dtype: int64"
      ]
     },
     "execution_count": 324,
     "metadata": {},
     "output_type": "execute_result"
    }
   ],
   "source": [
    "# Obtendo as contagens de sobrevidentes para cada classe\n",
    "surv_counts = dftitan.groupby(['survived', 'pclass']).count()['passengerid']\n",
    "surv_counts"
   ]
  },
  {
   "cell_type": "code",
   "execution_count": 325,
   "metadata": {},
   "outputs": [
    {
     "data": {
      "text/plain": [
       "survived\n",
       "0    549\n",
       "1    342\n",
       "Name: passengerid, dtype: int64"
      ]
     },
     "execution_count": 325,
     "metadata": {},
     "output_type": "execute_result"
    }
   ],
   "source": [
    "# Obtendo a contagem total de sobrevidentes/não sobreviventes\n",
    "surv_total = dftitan.groupby(['survived']).count()['passengerid']\n",
    "surv_total"
   ]
  },
  {
   "cell_type": "code",
   "execution_count": 326,
   "metadata": {},
   "outputs": [
    {
     "data": {
      "text/plain": [
       "pclass\n",
       "1    0.397661\n",
       "2    0.254386\n",
       "3    0.347953\n",
       "Name: passengerid, dtype: float64"
      ]
     },
     "execution_count": 326,
     "metadata": {},
     "output_type": "execute_result"
    }
   ],
   "source": [
    "# Obtendo as proporções de sobreviventes em cada uma das classes\n",
    "surv_proportions = surv_counts[1] / surv_total[1]\n",
    "surv_proportions"
   ]
  },
  {
   "cell_type": "code",
   "execution_count": 327,
   "metadata": {},
   "outputs": [
    {
     "data": {
      "text/plain": [
       "pclass\n",
       "1    0.145719\n",
       "2    0.176685\n",
       "3    0.677596\n",
       "Name: passengerid, dtype: float64"
      ]
     },
     "execution_count": 327,
     "metadata": {},
     "output_type": "execute_result"
    }
   ],
   "source": [
    "# Obtendo as proporções de não sobreviventes em cada uma das classes \n",
    "notsurv_proportions = surv_counts[0] / surv_total[0]\n",
    "notsurv_proportions"
   ]
  },
  {
   "cell_type": "code",
   "execution_count": 329,
   "metadata": {},
   "outputs": [
    {
     "data": {
      "text/plain": [
       "<matplotlib.legend.Legend at 0x25a2dcec1d0>"
      ]
     },
     "execution_count": 329,
     "metadata": {},
     "output_type": "execute_result"
    },
    {
     "data": {
      "image/png": "[encoded data removed]",
      "text/plain": [
       "<Figure size 432x288 with 1 Axes>"
      ]
     },
     "metadata": {
      "needs_background": "light"
     },
     "output_type": "display_data"
    }
   ],
   "source": [
    "# Montagem das barras\n",
    "ind        = np.arange(len(surv_proportions))  # a localização no eixo x dos grupos\n",
    "width      = 0.45                              # a largura das barras\n",
    "surv_bars  = plt.bar(ind, surv_proportions, width, color='r', alpha=.6, label='Survivors')\n",
    "nsurv_bars = plt.bar(ind + width, notsurv_proportions, width, color='b', alpha=.6, label='Not Survivors')\n",
    "\n",
    "# Definição dos título e rótulos\n",
    "plt.ylabel('Proportion')\n",
    "plt.xlabel('Survivors')\n",
    "plt.title('Proportion by Survivors and Class')\n",
    "locations = ind + width / 2  # localização dos marcadores no eixo x\n",
    "labels    = surv_proportions.index # rótulos dos marcadores no eixo x\n",
    "plt.xticks(locations, labels)\n",
    "\n",
    "# legenda\n",
    "plt.legend()"
   ]
  },
  {
   "cell_type": "markdown",
   "metadata": {},
   "source": [
    "#### Passo 2: Conclusão\n",
    "\n",
    "O gráfico acima nos mostra a distribuição de sobreviventes e não sobreviventes em cada uma das classes. Os dois extremos das classes (1st e 3rd) nos mostra claramente a influência da classe no número de sobreviventes. Enquanto que na 1st classe o número de sobreviventes foi quase o dobro, na terceira classe essa relação se inverte. Ou seja, o numero de não-sobreviventes é quase o dobro do número de sobreviventes. "
   ]
  },
  {
   "cell_type": "markdown",
   "metadata": {},
   "source": [
    "### Pergunta 4 - Conclusão\n",
    "\n",
    "As conclusões parciais de cada uma das 2 análises acerca da pergunta 4, nos permite concluir que existe uma relação clara \n",
    "entre os sobreviventes e o seu perfil financeiro. Ou seja, um número maior de sobreviventes estão entre os que pagaram mais caro pela tarifa."
   ]
  },
  {
   "cell_type": "markdown",
   "metadata": {},
   "source": [
    "## Problemas encontrados\n",
    "\n",
    "Algumas variáveis do conjunto de dados estavam com um número muito elevado de valores faltantes. Em alguns casos foi possivel contronar tal situação (como no caso da variável \"age\", onde a solução foi substituir os valores faltantes pela média). Em outros casos a solução foi a retirada completa da variável (por exemplo, a variável \"cabin\" que tinha cerca de 77% dos dados faltantes). "
   ]
  },
  {
   "cell_type": "markdown",
   "metadata": {},
   "source": [
    "## Resultados\n",
    "\n",
    "Aa análise feita acerca da faixa etária dos passageiros, não nos permitiu estabeler uma relação forte entre a idade e o número de sobreviventes. A única afirmação que foi possível fazer acerca dessa análise é que na faixa etária que compreende as crianças a taxa de sobreviventes foi maior. Esse fenômeno pode ser explicado tendo como base a [regra de evacuação](https://pt.wikipedia.org/wiki/Mulheres_e_crian%C3%A7as_primeiro). Com a ajuda das análises que relacionaram as variáveis \"sex\"/\"survived\" e \"pclass\"/\"survived\", foi possível concluir uma forte relação causa/efeito. Ou seja, tanto o sexo quanto a classe dos passageiros foram fatores cruciais para a sua sobrevivência. Para corroborar a influência do perfil financeiro dos passageiros na população de sobreviventes (já confirmada pela variável \"pclass\"), foi realizada uma análise onde o dataset foi separado em dois grandes grupos: low_fare (contendo passageiros que pagaram valores abaixo da média) e high_fare (contendo passageiros que pagaram valores acima da média). Mais uma vez confirmamos que aqueles passageiros com maior poder aquisitivo tiveram a sua taxa de sobrevivência aumentada em relação aos demais."
   ]
  },
  {
   "cell_type": "code",
   "execution_count": null,
   "metadata": {},
   "outputs": [],
   "source": []
  }
 ],
 "metadata": {
  "kernelspec": {
   "display_name": "Python 3",
   "language": "python",
   "name": "python3"
  },
  "language_info": {
   "codemirror_mode": {
    "name": "ipython",
    "version": 3
   },
   "file_extension": ".py",
   "mimetype": "text/x-python",
   "name": "python",
   "nbconvert_exporter": "python",
   "pygments_lexer": "ipython3",
   "version": "3.7.1"
  }
 },
 "nbformat": 4,
 "nbformat_minor": 2
}
